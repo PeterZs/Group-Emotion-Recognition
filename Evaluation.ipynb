{
 "cells": [
  {
   "cell_type": "markdown",
   "metadata": {},
   "source": [
    "# Evaluation"
   ]
  },
  {
   "cell_type": "markdown",
   "metadata": {},
   "source": [
    "## 1. Setup"
   ]
  },
  {
   "cell_type": "markdown",
   "metadata": {},
   "source": [
    "### 1.1 Import required libraries"
   ]
  },
  {
   "cell_type": "code",
   "execution_count": 1,
   "metadata": {
    "scrolled": true
   },
   "outputs": [
    {
     "name": "stdout",
     "output_type": "stream",
     "text": [
      "WARNING:tensorflow:From /anaconda3/envs/venv/lib/python3.7/site-packages/tensorflow/python/framework/op_def_library.py:263: colocate_with (from tensorflow.python.framework.ops) is deprecated and will be removed in a future version.\n",
      "Instructions for updating:\n",
      "Colocations handled automatically by placer.\n"
     ]
    },
    {
     "name": "stderr",
     "output_type": "stream",
     "text": [
      "WARNING:tensorflow:From /anaconda3/envs/venv/lib/python3.7/site-packages/tensorflow/python/framework/op_def_library.py:263: colocate_with (from tensorflow.python.framework.ops) is deprecated and will be removed in a future version.\n",
      "Instructions for updating:\n",
      "Colocations handled automatically by placer.\n"
     ]
    },
    {
     "name": "stdout",
     "output_type": "stream",
     "text": [
      "WARNING:tensorflow:From /anaconda3/envs/venv/lib/python3.7/site-packages/mtcnn/layer_factory.py:211: calling reduce_max_v1 (from tensorflow.python.ops.math_ops) with keep_dims is deprecated and will be removed in a future version.\n",
      "Instructions for updating:\n",
      "keep_dims is deprecated, use keepdims instead\n"
     ]
    },
    {
     "name": "stderr",
     "output_type": "stream",
     "text": [
      "WARNING:tensorflow:From /anaconda3/envs/venv/lib/python3.7/site-packages/mtcnn/layer_factory.py:211: calling reduce_max_v1 (from tensorflow.python.ops.math_ops) with keep_dims is deprecated and will be removed in a future version.\n",
      "Instructions for updating:\n",
      "keep_dims is deprecated, use keepdims instead\n"
     ]
    },
    {
     "name": "stdout",
     "output_type": "stream",
     "text": [
      "WARNING:tensorflow:From /anaconda3/envs/venv/lib/python3.7/site-packages/mtcnn/layer_factory.py:213: calling reduce_sum_v1 (from tensorflow.python.ops.math_ops) with keep_dims is deprecated and will be removed in a future version.\n",
      "Instructions for updating:\n",
      "keep_dims is deprecated, use keepdims instead\n"
     ]
    },
    {
     "name": "stderr",
     "output_type": "stream",
     "text": [
      "WARNING:tensorflow:From /anaconda3/envs/venv/lib/python3.7/site-packages/mtcnn/layer_factory.py:213: calling reduce_sum_v1 (from tensorflow.python.ops.math_ops) with keep_dims is deprecated and will be removed in a future version.\n",
      "Instructions for updating:\n",
      "keep_dims is deprecated, use keepdims instead\n"
     ]
    },
    {
     "name": "stdout",
     "output_type": "stream",
     "text": [
      "WARNING:tensorflow:From /anaconda3/envs/venv/lib/python3.7/site-packages/mtcnn/layer_factory.py:214: div (from tensorflow.python.ops.math_ops) is deprecated and will be removed in a future version.\n",
      "Instructions for updating:\n",
      "Deprecated in favor of operator or tf.math.divide.\n"
     ]
    },
    {
     "name": "stderr",
     "output_type": "stream",
     "text": [
      "WARNING:tensorflow:From /anaconda3/envs/venv/lib/python3.7/site-packages/mtcnn/layer_factory.py:214: div (from tensorflow.python.ops.math_ops) is deprecated and will be removed in a future version.\n",
      "Instructions for updating:\n",
      "Deprecated in favor of operator or tf.math.divide.\n",
      "Using TensorFlow backend.\n"
     ]
    }
   ],
   "source": [
    "import os\n",
    "import sys\n",
    "import glob\n",
    "import numpy as np\n",
    "import image_preprocessing\n",
    "import cnn\n",
    "import bayesian_network\n",
    "import json\n",
    "import pandas as pd\n",
    "import matplotlib.pyplot as plt\n",
    "from matplotlib import style\n",
    "from sklearn.metrics import confusion_matrix, accuracy_score\n",
    "import itertools\n",
    "\n",
    "%matplotlib inline  "
   ]
  },
  {
   "cell_type": "markdown",
   "metadata": {},
   "source": [
    "### 1.2 Function to plot the confusion matrix"
   ]
  },
  {
   "cell_type": "code",
   "execution_count": 2,
   "metadata": {},
   "outputs": [],
   "source": [
    "def plot_confusion_matrix(cm, classes,\n",
    "                          normalize=False,\n",
    "                          title='Confusion matrix',\n",
    "                          cmap=plt.cm.Blues):\n",
    "    \"\"\"\n",
    "    This function prints and plots the confusion matrix.\n",
    "    Normalization can be applied by setting `normalize=True`.\n",
    "    Credit: https://github.com/scikit-learn/scikit-learn/blob/master/examples/model_selection/plot_confusion_matrix.py\n",
    "    \"\"\"\n",
    "    np.set_printoptions(precision=2)\n",
    "    if normalize:\n",
    "        cm = cm.astype('float') / cm.sum(axis=1)[:, np.newaxis]\n",
    "        print(\"Normalized confusion matrix\")\n",
    "    else:\n",
    "        print('Confusion matrix, without normalization')\n",
    "\n",
    "    print(cm)\n",
    "\n",
    "    plt.imshow(cm, interpolation='nearest', cmap=cmap)\n",
    "    plt.title(title)\n",
    "    plt.colorbar()\n",
    "    tick_marks = np.arange(len(classes))\n",
    "    plt.xticks(tick_marks, classes, rotation=45)\n",
    "    plt.yticks(tick_marks, classes)\n",
    "\n",
    "    fmt = '.2f' if normalize else 'd'\n",
    "    thresh = cm.max() / 2.\n",
    "    for i, j in itertools.product(range(cm.shape[0]), range(cm.shape[1])):\n",
    "        plt.text(j, i, format(cm[i, j], fmt),\n",
    "                 horizontalalignment=\"center\",\n",
    "                 color=\"white\" if cm[i, j] > thresh else \"black\")\n",
    "\n",
    "    plt.ylabel('True label')\n",
    "    plt.xlabel('Predicted label')\n",
    "    plt.tight_layout()"
   ]
  },
  {
   "cell_type": "markdown",
   "metadata": {},
   "source": [
    "### 1.3 Function to classify an image"
   ]
  },
  {
   "cell_type": "code",
   "execution_count": 7,
   "metadata": {},
   "outputs": [],
   "source": [
    "classes = {\"Positive\": 0, \"Neutral\": 1, \"Negative\": 2, \"None\": 3}\n",
    "def classify_image(image_folder_path, image_name, real_label, cnn_model, bayesian_model, labels_list):\n",
    "    with open('val_labels.json', mode='r', encoding='utf-8') as f:\n",
    "        image_labels_dict = json.load(f)\n",
    "    labels = image_labels_dict[image_name]\n",
    "\n",
    "    print(\"RadhaKrishna\")\n",
    "#     print(labels)\n",
    "\n",
    "    # preprocess the image\n",
    "    image_preprocessing.preprocess(image_folder_path, image_name)\n",
    "\n",
    "    # get mean cnn predictions for the faces from the image\n",
    "    cnn_label, cnn_dict, faces_detected = cnn.predict_image(cnn_model, image_folder_path + \"Aligned/\", image_name)\n",
    "\n",
    "    # get the bayesian and bayesian + cnn predictions for the image\n",
    "    bayesian_label, bayesian_cnn_label, emotion_dict, emotion_cnn_dict = bayesian_network.inference(bayesian_model, labels_list, labels, cnn_label)\n",
    "\n",
    "#     print(\"Faces detected: \" + str(faces_detected))\n",
    "#     print(\"Real Label: \" + str(real_label))\n",
    "#     print(\"CNN Label: \" + str(cnn_label))\n",
    "    print(\"Bayesian Label: \" + str(bayesian_label))\n",
    "#     print(\"Bayesian + CNN Label: \" + str(bayesian_cnn_label))\n",
    "\n",
    "    return classes[real_label], classes[str(cnn_label)], classes[str(bayesian_label)], classes[str(bayesian_cnn_label)], faces_detected"
   ]
  },
  {
   "cell_type": "markdown",
   "metadata": {},
   "source": [
    "### 1.4 Load the CNN and bayesian model"
   ]
  },
  {
   "cell_type": "code",
   "execution_count": 8,
   "metadata": {},
   "outputs": [
    {
     "name": "stdout",
     "output_type": "stream",
     "text": [
      "RadhaKrishna\n",
      "WARNING:tensorflow:From /anaconda3/envs/venv/lib/python3.7/site-packages/keras/backend/tensorflow_backend.py:3445: calling dropout (from tensorflow.python.ops.nn_ops) with keep_prob is deprecated and will be removed in a future version.\n",
      "Instructions for updating:\n",
      "Please use `rate` instead of `keep_prob`. Rate should be set to `rate = 1 - keep_prob`.\n"
     ]
    },
    {
     "name": "stderr",
     "output_type": "stream",
     "text": [
      "WARNING:tensorflow:From /anaconda3/envs/venv/lib/python3.7/site-packages/keras/backend/tensorflow_backend.py:3445: calling dropout (from tensorflow.python.ops.nn_ops) with keep_prob is deprecated and will be removed in a future version.\n",
      "Instructions for updating:\n",
      "Please use `rate` instead of `keep_prob`. Rate should be set to `rate = 1 - keep_prob`.\n"
     ]
    },
    {
     "name": "stdout",
     "output_type": "stream",
     "text": [
      "Loaded CNN model from disk\n",
      "True\n"
     ]
    }
   ],
   "source": [
    "print(\"RadhaKrishna\")\n",
    "cnn_model = cnn.load_model()\n",
    "bayesian_model, labels_list = bayesian_network.load_model()"
   ]
  },
  {
   "cell_type": "markdown",
   "metadata": {},
   "source": [
    "### 1.5 Function to evaluate the test data"
   ]
  },
  {
   "cell_type": "code",
   "execution_count": 5,
   "metadata": {},
   "outputs": [],
   "source": [
    "def evaluate(image_folder_path, real_label):\n",
    "    print(\"RadhaKrishna\")\n",
    "    predictions = []\n",
    "    i = 0\n",
    "    for file in sorted(glob.glob(image_folder_path + \"*.jpg\")):\n",
    "        image_name = (file.split('/'))[-1]\n",
    "        print(\"Image: \" + image_name)\n",
    "        prediction = {\"Image\": image_name}\n",
    "        prediction[\"Actual\"], prediction[\"CNN\"], prediction[\"Bayesian\"], prediction[\"Bayesian + CNN\"], prediction[\"Faces Detected\"] = classify_image(image_folder_path, image_name, real_label, cnn_model, bayesian_model, labels_list)\n",
    "        predictions.append(prediction)\n",
    "        i+=1\n",
    "        if (i==100): \n",
    "            break\n",
    "    return predictions"
   ]
  },
  {
   "cell_type": "markdown",
   "metadata": {},
   "source": [
    "---"
   ]
  },
  {
   "cell_type": "markdown",
   "metadata": {},
   "source": [
    "## 2. Evaluation"
   ]
  },
  {
   "cell_type": "markdown",
   "metadata": {},
   "source": [
    "### 2.1 Perform evaluations on the validation dataset"
   ]
  },
  {
   "cell_type": "code",
   "execution_count": null,
   "metadata": {
    "scrolled": true
   },
   "outputs": [
    {
     "name": "stdout",
     "output_type": "stream",
     "text": [
      "RadhaKrishna\n",
      "Image: pos_1.jpg\n",
      "RadhaKrishna\n",
      "Bayesian Label: Neutral\n",
      "Image: pos_10.jpg\n",
      "RadhaKrishna\n",
      "Bayesian Label: Positive\n",
      "Image: pos_100.jpg\n",
      "RadhaKrishna\n",
      "Bayesian Label: Positive\n",
      "Image: pos_1000.jpg\n",
      "RadhaKrishna\n",
      "Bayesian Label: Positive\n",
      "Image: pos_1001.jpg\n",
      "RadhaKrishna\n",
      "Bayesian Label: Neutral\n",
      "Image: pos_1002.jpg\n",
      "RadhaKrishna\n",
      "Bayesian Label: Positive\n",
      "Image: pos_1003.jpg\n",
      "RadhaKrishna\n",
      "Bayesian Label: Positive\n",
      "Image: pos_1004.jpg\n",
      "RadhaKrishna\n",
      "Bayesian Label: Positive\n",
      "Image: pos_1005.jpg\n",
      "RadhaKrishna\n",
      "Bayesian Label: Positive\n",
      "Image: pos_1006.jpg\n",
      "RadhaKrishna\n",
      "Bayesian Label: Positive\n",
      "Image: pos_1007.jpg\n",
      "RadhaKrishna\n",
      "Bayesian Label: Positive\n",
      "Image: pos_1008.jpg\n",
      "RadhaKrishna\n",
      "Bayesian Label: Positive\n",
      "Image: pos_1009.jpg\n",
      "RadhaKrishna\n",
      "Bayesian Label: Positive\n",
      "Image: pos_101.jpg\n",
      "RadhaKrishna\n",
      "Bayesian Label: Positive\n",
      "Image: pos_1010.jpg\n",
      "RadhaKrishna\n",
      "Bayesian Label: Positive\n",
      "Image: pos_1011.jpg\n",
      "RadhaKrishna\n",
      "Bayesian Label: Positive\n",
      "Image: pos_1012.jpg\n",
      "RadhaKrishna\n",
      "Bayesian Label: Positive\n",
      "Image: pos_1013.jpg\n",
      "RadhaKrishna\n",
      "Bayesian Label: Positive\n",
      "Image: pos_1014.jpg\n",
      "RadhaKrishna\n",
      "Bayesian Label: Neutral\n",
      "Image: pos_1015.jpg\n",
      "RadhaKrishna\n",
      "Bayesian Label: Positive\n",
      "Image: pos_1016.jpg\n",
      "RadhaKrishna\n",
      "Bayesian Label: Neutral\n",
      "Image: pos_1017.jpg\n",
      "RadhaKrishna\n",
      "Bayesian Label: Neutral\n",
      "Image: pos_1018.jpg\n",
      "RadhaKrishna\n",
      "Bayesian Label: Positive\n",
      "Image: pos_1019.jpg\n",
      "RadhaKrishna\n",
      "Bayesian Label: Positive\n",
      "Image: pos_102.jpg\n",
      "RadhaKrishna\n",
      "Bayesian Label: Neutral\n",
      "Image: pos_1020.jpg\n",
      "RadhaKrishna\n",
      "Bayesian Label: Neutral\n",
      "Image: pos_1021.jpg\n",
      "RadhaKrishna\n",
      "Bayesian Label: Positive\n",
      "Image: pos_1022.jpg\n",
      "RadhaKrishna\n",
      "Bayesian Label: Neutral\n",
      "Image: pos_1023.jpg\n",
      "RadhaKrishna\n"
     ]
    },
    {
     "name": "stderr",
     "output_type": "stream",
     "text": [
      "/anaconda3/envs/venv/lib/python3.7/site-packages/pgmpy/factors/discrete/DiscreteFactor.py:377: RuntimeWarning: invalid value encountered in true_divide\n",
      "  phi.values = phi.values / phi.values.sum()\n"
     ]
    },
    {
     "name": "stdout",
     "output_type": "stream",
     "text": [
      "Bayesian Label: Positive\n",
      "Image: pos_1024.jpg\n",
      "RadhaKrishna\n",
      "Bayesian Label: Positive\n",
      "Image: pos_1025.jpg\n",
      "RadhaKrishna\n",
      "Bayesian Label: Positive\n",
      "Image: pos_1026.jpg\n",
      "RadhaKrishna\n",
      "Bayesian Label: Positive\n",
      "Image: pos_1027.jpg\n",
      "RadhaKrishna\n",
      "Bayesian Label: Positive\n",
      "Image: pos_1028.jpg\n",
      "RadhaKrishna\n",
      "Bayesian Label: Positive\n",
      "Image: pos_1029.jpg\n",
      "RadhaKrishna\n",
      "Bayesian Label: Positive\n",
      "Image: pos_103.jpg\n",
      "RadhaKrishna\n",
      "Bayesian Label: Neutral\n",
      "Image: pos_1030.jpg\n",
      "RadhaKrishna\n",
      "Bayesian Label: Positive\n",
      "Image: pos_1031.jpg\n",
      "RadhaKrishna\n",
      "Bayesian Label: Positive\n",
      "Image: pos_1032.jpg\n",
      "RadhaKrishna\n",
      "Bayesian Label: Positive\n",
      "Image: pos_1033.jpg\n",
      "RadhaKrishna\n",
      "Bayesian Label: Neutral\n",
      "Image: pos_1034.jpg\n",
      "RadhaKrishna\n",
      "Bayesian Label: Neutral\n",
      "Image: pos_1035.jpg\n",
      "RadhaKrishna\n",
      "Bayesian Label: Neutral\n",
      "Image: pos_1036.jpg\n",
      "RadhaKrishna\n",
      "Bayesian Label: Neutral\n",
      "Image: pos_1037.jpg\n",
      "RadhaKrishna\n",
      "Bayesian Label: Neutral\n",
      "Image: pos_1038.jpg\n",
      "RadhaKrishna\n",
      "Bayesian Label: Neutral\n",
      "Image: pos_1039.jpg\n",
      "RadhaKrishna\n",
      "Bayesian Label: Neutral\n",
      "Image: pos_104.jpg\n",
      "RadhaKrishna\n",
      "Bayesian Label: Positive\n",
      "Image: pos_1040.jpg\n",
      "RadhaKrishna\n",
      "Bayesian Label: Positive\n",
      "Image: pos_1041.jpg\n",
      "RadhaKrishna\n",
      "Bayesian Label: Positive\n",
      "Image: pos_1042.jpg\n",
      "RadhaKrishna\n",
      "Bayesian Label: Positive\n",
      "Image: pos_1043.jpg\n",
      "RadhaKrishna\n",
      "Bayesian Label: Neutral\n",
      "Image: pos_1044.jpg\n",
      "RadhaKrishna\n",
      "Bayesian Label: Neutral\n",
      "Image: pos_1045.jpg\n",
      "RadhaKrishna\n",
      "Bayesian Label: Negative\n",
      "Image: pos_1046.jpg\n",
      "RadhaKrishna\n",
      "Bayesian Label: Neutral\n",
      "Image: pos_1047.jpg\n",
      "RadhaKrishna\n",
      "Bayesian Label: Neutral\n",
      "Image: pos_1048.jpg\n",
      "RadhaKrishna\n",
      "Bayesian Label: Positive\n",
      "Image: pos_1049.jpg\n",
      "RadhaKrishna\n",
      "Bayesian Label: Neutral\n",
      "Image: pos_105.jpg\n",
      "RadhaKrishna\n",
      "Bayesian Label: Positive\n",
      "Image: pos_1050.jpg\n",
      "RadhaKrishna\n",
      "Bayesian Label: Positive\n",
      "Image: pos_1051.jpg\n",
      "RadhaKrishna\n",
      "Bayesian Label: Positive\n",
      "Image: pos_1052.jpg\n",
      "RadhaKrishna\n",
      "Bayesian Label: Positive\n",
      "Image: pos_1053.jpg\n",
      "RadhaKrishna\n",
      "Bayesian Label: Positive\n",
      "Image: pos_1054.jpg\n",
      "RadhaKrishna\n",
      "Bayesian Label: Positive\n",
      "Image: pos_1055.jpg\n",
      "RadhaKrishna\n",
      "Bayesian Label: Positive\n",
      "Image: pos_1056.jpg\n",
      "RadhaKrishna\n",
      "Bayesian Label: Positive\n",
      "Image: pos_1057.jpg\n",
      "RadhaKrishna\n",
      "Bayesian Label: Neutral\n",
      "Image: pos_1058.jpg\n",
      "RadhaKrishna\n",
      "Bayesian Label: Positive\n",
      "Image: pos_1059.jpg\n",
      "RadhaKrishna\n",
      "Bayesian Label: Positive\n",
      "Image: pos_106.jpg\n",
      "RadhaKrishna\n",
      "Bayesian Label: Positive\n",
      "Image: pos_1060.jpg\n",
      "RadhaKrishna\n",
      "Bayesian Label: Positive\n",
      "Image: pos_1061.jpg\n",
      "RadhaKrishna\n",
      "Bayesian Label: Neutral\n",
      "Image: pos_1062.jpg\n",
      "RadhaKrishna\n",
      "Bayesian Label: Positive\n",
      "Image: pos_1063.jpg\n",
      "RadhaKrishna\n",
      "Bayesian Label: Positive\n",
      "Image: pos_1064.jpg\n",
      "RadhaKrishna\n",
      "Bayesian Label: Positive\n",
      "Image: pos_1065.jpg\n",
      "RadhaKrishna\n",
      "Bayesian Label: Positive\n",
      "Image: pos_1066.jpg\n",
      "RadhaKrishna\n",
      "Bayesian Label: Positive\n",
      "Image: pos_1067.jpg\n",
      "RadhaKrishna\n",
      "Bayesian Label: Positive\n",
      "Image: pos_1068.jpg\n",
      "RadhaKrishna\n",
      "Bayesian Label: Positive\n",
      "Image: pos_1069.jpg\n",
      "RadhaKrishna\n",
      "Bayesian Label: Neutral\n",
      "Image: pos_107.jpg\n",
      "RadhaKrishna\n",
      "Bayesian Label: Neutral\n",
      "Image: pos_1070.jpg\n",
      "RadhaKrishna\n",
      "Bayesian Label: Positive\n",
      "Image: pos_1071.jpg\n",
      "RadhaKrishna\n",
      "Bayesian Label: Neutral\n",
      "Image: pos_1072.jpg\n",
      "RadhaKrishna\n",
      "Bayesian Label: Positive\n",
      "Image: pos_1073.jpg\n",
      "RadhaKrishna\n",
      "Bayesian Label: Negative\n",
      "Image: pos_1074.jpg\n",
      "RadhaKrishna\n",
      "Bayesian Label: Positive\n",
      "Image: pos_1075.jpg\n",
      "RadhaKrishna\n",
      "Bayesian Label: Positive\n",
      "Image: pos_1076.jpg\n",
      "RadhaKrishna\n",
      "Bayesian Label: Neutral\n",
      "Image: pos_1077.jpg\n",
      "RadhaKrishna\n",
      "Bayesian Label: Positive\n",
      "Image: pos_1078.jpg\n",
      "RadhaKrishna\n",
      "Bayesian Label: Neutral\n",
      "Image: pos_1079.jpg\n",
      "RadhaKrishna\n",
      "Bayesian Label: Neutral\n",
      "Image: pos_108.jpg\n",
      "RadhaKrishna\n",
      "Bayesian Label: Neutral\n",
      "Image: pos_1080.jpg\n",
      "RadhaKrishna\n",
      "Bayesian Label: Neutral\n",
      "Image: pos_1081.jpg\n",
      "RadhaKrishna\n",
      "Bayesian Label: Positive\n",
      "Image: pos_1082.jpg\n",
      "RadhaKrishna\n",
      "Bayesian Label: Neutral\n",
      "Image: pos_1083.jpg\n",
      "RadhaKrishna\n",
      "Bayesian Label: Negative\n",
      "Image: pos_1084.jpg\n",
      "RadhaKrishna\n",
      "Bayesian Label: Positive\n",
      "Image: pos_1085.jpg\n",
      "RadhaKrishna\n",
      "Bayesian Label: Positive\n",
      "Image: pos_1086.jpg\n",
      "RadhaKrishna\n",
      "Bayesian Label: Positive\n",
      "Image: pos_1087.jpg\n",
      "RadhaKrishna\n",
      "Bayesian Label: Negative\n",
      "Image: pos_1088.jpg\n",
      "RadhaKrishna\n",
      "Bayesian Label: Neutral\n",
      "RadhaKrishna\n",
      "Image: neu_1.jpg\n",
      "RadhaKrishna\n"
     ]
    }
   ],
   "source": [
    "class_list = ['Positive', 'Neutral', 'Negative']\n",
    "predictions_list = []\n",
    "for emotion_class in class_list:\n",
    "    predictions = evaluate('input/val/' + emotion_class + '/', emotion_class)\n",
    "    predictions_list += predictions\n",
    "df = pd.DataFrame(predictions_list)\n",
    "df.head()"
   ]
  },
  {
   "cell_type": "markdown",
   "metadata": {},
   "source": [
    "### 2.2 Save the results to a file"
   ]
  },
  {
   "cell_type": "code",
   "execution_count": null,
   "metadata": {},
   "outputs": [],
   "source": [
    "df.to_pickle('predictions_300')"
   ]
  },
  {
   "cell_type": "markdown",
   "metadata": {},
   "source": [
    "---"
   ]
  },
  {
   "cell_type": "markdown",
   "metadata": {},
   "source": [
    "## 3. Analyse the results"
   ]
  },
  {
   "cell_type": "markdown",
   "metadata": {},
   "source": [
    "### 3.1 Read the results from the file"
   ]
  },
  {
   "cell_type": "code",
   "execution_count": 3,
   "metadata": {},
   "outputs": [],
   "source": [
    "df = pd.read_pickle('predictions_1_2_3_4')"
   ]
  },
  {
   "cell_type": "markdown",
   "metadata": {},
   "source": [
    "### 3.2 Extract predictions from the dataframe"
   ]
  },
  {
   "cell_type": "code",
   "execution_count": 4,
   "metadata": {},
   "outputs": [],
   "source": [
    "y_true = df[[\"Actual\"]]\n",
    "y_pred_cnn = df[[\"CNN\"]]\n",
    "y_pred_bayesian = df[[\"Bayesian\"]]\n",
    "y_pred_bayesian_cnn = df[[\"Bayesian + CNN\"]]"
   ]
  },
  {
   "cell_type": "code",
   "execution_count": 5,
   "metadata": {},
   "outputs": [
    {
     "data": {
      "text/html": [
       "<div>\n",
       "<style scoped>\n",
       "    .dataframe tbody tr th:only-of-type {\n",
       "        vertical-align: middle;\n",
       "    }\n",
       "\n",
       "    .dataframe tbody tr th {\n",
       "        vertical-align: top;\n",
       "    }\n",
       "\n",
       "    .dataframe thead th {\n",
       "        text-align: right;\n",
       "    }\n",
       "</style>\n",
       "<table border=\"1\" class=\"dataframe\">\n",
       "  <thead>\n",
       "    <tr style=\"text-align: right;\">\n",
       "      <th></th>\n",
       "      <th>Actual</th>\n",
       "      <th>Bayesian</th>\n",
       "      <th>Bayesian + CNN</th>\n",
       "      <th>CNN</th>\n",
       "      <th>Faces Detected</th>\n",
       "      <th>Image</th>\n",
       "    </tr>\n",
       "  </thead>\n",
       "  <tbody>\n",
       "    <tr>\n",
       "      <th>0</th>\n",
       "      <td>0</td>\n",
       "      <td>1</td>\n",
       "      <td>0</td>\n",
       "      <td>0</td>\n",
       "      <td>True</td>\n",
       "      <td>pos_1.jpg</td>\n",
       "    </tr>\n",
       "    <tr>\n",
       "      <th>1</th>\n",
       "      <td>0</td>\n",
       "      <td>0</td>\n",
       "      <td>0</td>\n",
       "      <td>0</td>\n",
       "      <td>True</td>\n",
       "      <td>pos_10.jpg</td>\n",
       "    </tr>\n",
       "    <tr>\n",
       "      <th>2</th>\n",
       "      <td>0</td>\n",
       "      <td>1</td>\n",
       "      <td>0</td>\n",
       "      <td>0</td>\n",
       "      <td>True</td>\n",
       "      <td>pos_100.jpg</td>\n",
       "    </tr>\n",
       "    <tr>\n",
       "      <th>3</th>\n",
       "      <td>0</td>\n",
       "      <td>0</td>\n",
       "      <td>0</td>\n",
       "      <td>1</td>\n",
       "      <td>True</td>\n",
       "      <td>pos_1000.jpg</td>\n",
       "    </tr>\n",
       "    <tr>\n",
       "      <th>4</th>\n",
       "      <td>0</td>\n",
       "      <td>1</td>\n",
       "      <td>1</td>\n",
       "      <td>0</td>\n",
       "      <td>True</td>\n",
       "      <td>pos_1001.jpg</td>\n",
       "    </tr>\n",
       "  </tbody>\n",
       "</table>\n",
       "</div>"
      ],
      "text/plain": [
       "   Actual  Bayesian  Bayesian + CNN  CNN  Faces Detected         Image\n",
       "0       0         1               0    0            True     pos_1.jpg\n",
       "1       0         0               0    0            True    pos_10.jpg\n",
       "2       0         1               0    0            True   pos_100.jpg\n",
       "3       0         0               0    1            True  pos_1000.jpg\n",
       "4       0         1               1    0            True  pos_1001.jpg"
      ]
     },
     "execution_count": 5,
     "metadata": {},
     "output_type": "execute_result"
    }
   ],
   "source": [
    "df.head()"
   ]
  },
  {
   "cell_type": "markdown",
   "metadata": {},
   "source": [
    "### 3.3 Plot the confusion matrix for CNN"
   ]
  },
  {
   "cell_type": "code",
   "execution_count": 18,
   "metadata": {
    "scrolled": true
   },
   "outputs": [
    {
     "name": "stdout",
     "output_type": "stream",
     "text": [
      "Confusion matrix, without normalization\n",
      "[[1473  152   55   67]\n",
      " [ 225  771  261  111]\n",
      " [ 253  351  549   78]\n",
      " [   0    0    0    0]]\n"
     ]
    },
    {
     "data": {
      "image/png": "[encoded data removed]",
      "text/plain": [
       "<Figure size 432x288 with 2 Axes>"
      ]
     },
     "metadata": {
      "needs_background": "light"
     },
     "output_type": "display_data"
    }
   ],
   "source": [
    "cm = confusion_matrix(y_true, y_pred_cnn)\n",
    "plt.figure()\n",
    "plot_confusion_matrix(cm, classes=classes)\n",
    "plt.show()"
   ]
  },
  {
   "cell_type": "markdown",
   "metadata": {},
   "source": [
    "### 3.4 Plot the confusion matrix for Bayesian network"
   ]
  },
  {
   "cell_type": "code",
   "execution_count": 15,
   "metadata": {
    "scrolled": true
   },
   "outputs": [
    {
     "name": "stdout",
     "output_type": "stream",
     "text": [
      "Confusion matrix, without normalization\n",
      "[[989 654 104]\n",
      " [209 882 277]\n",
      " [145 304 782]]\n"
     ]
    },
    {
     "data": {
      "image/png": "[encoded data removed]",
      "text/plain": [
       "<Figure size 432x288 with 2 Axes>"
      ]
     },
     "metadata": {
      "needs_background": "light"
     },
     "output_type": "display_data"
    }
   ],
   "source": [
    "cm = confusion_matrix(y_true, y_pred_bayesian)\n",
    "plt.figure()\n",
    "plot_confusion_matrix(cm, classes={\"Positive\": 0, \"Neutral\": 1, \"Negative\": 2})\n",
    "plt.show()"
   ]
  },
  {
   "cell_type": "markdown",
   "metadata": {},
   "source": [
    "### 3.5 Plot the confusion matrix for Bayesian network + CNN"
   ]
  },
  {
   "cell_type": "code",
   "execution_count": 16,
   "metadata": {
    "scrolled": true
   },
   "outputs": [
    {
     "name": "stdout",
     "output_type": "stream",
     "text": [
      "Confusion matrix, without normalization\n",
      "[[1128  531   88]\n",
      " [ 185  902  281]\n",
      " [ 122  302  807]]\n"
     ]
    },
    {
     "data": {
      "image/png": "[encoded data removed]",
      "text/plain": [
       "<Figure size 432x288 with 2 Axes>"
      ]
     },
     "metadata": {
      "needs_background": "light"
     },
     "output_type": "display_data"
    }
   ],
   "source": [
    "cm = confusion_matrix(y_true, y_pred_bayesian_cnn)\n",
    "plt.figure()\n",
    "plot_confusion_matrix(cm, classes={\"Positive\": 0, \"Neutral\": 1, \"Negative\": 2})\n",
    "plt.show()"
   ]
  },
  {
   "cell_type": "markdown",
   "metadata": {},
   "source": [
    "### 3.6 CNN Accuracy"
   ]
  },
  {
   "cell_type": "code",
   "execution_count": 12,
   "metadata": {},
   "outputs": [
    {
     "data": {
      "text/plain": [
       "0.6426599171652094"
      ]
     },
     "execution_count": 12,
     "metadata": {},
     "output_type": "execute_result"
    }
   ],
   "source": [
    "accuracy_score(y_true, y_pred_cnn)"
   ]
  },
  {
   "cell_type": "markdown",
   "metadata": {},
   "source": [
    "### 3.7 Bayesian Network Accuracy"
   ]
  },
  {
   "cell_type": "code",
   "execution_count": 13,
   "metadata": {},
   "outputs": [
    {
     "data": {
      "text/plain": [
       "0.6104463874827427"
      ]
     },
     "execution_count": 13,
     "metadata": {},
     "output_type": "execute_result"
    }
   ],
   "source": [
    "accuracy_score(y_true, y_pred_bayesian)"
   ]
  },
  {
   "cell_type": "markdown",
   "metadata": {},
   "source": [
    "### 3.8 Bayesian + CNN Accuracy"
   ]
  },
  {
   "cell_type": "code",
   "execution_count": 14,
   "metadata": {},
   "outputs": [
    {
     "data": {
      "text/plain": [
       "0.6527841693511275"
      ]
     },
     "execution_count": 14,
     "metadata": {},
     "output_type": "execute_result"
    }
   ],
   "source": [
    "accuracy_score(y_true, y_pred_bayesian_cnn)"
   ]
  },
  {
   "cell_type": "code",
   "execution_count": null,
   "metadata": {},
   "outputs": [],
   "source": []
  }
 ],
 "metadata": {
  "kernelspec": {
   "display_name": "Python 3",
   "language": "python",
   "name": "python3"
  },
  "language_info": {
   "codemirror_mode": {
    "name": "ipython",
    "version": 3
   },
   "file_extension": ".py",
   "mimetype": "text/x-python",
   "name": "python",
   "nbconvert_exporter": "python",
   "pygments_lexer": "ipython3",
   "version": "3.7.2"
  }
 },
 "nbformat": 4,
 "nbformat_minor": 2
}
