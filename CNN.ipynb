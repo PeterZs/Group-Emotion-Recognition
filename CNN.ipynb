{
  "nbformat": 4,
  "nbformat_minor": 0,
  "metadata": {
    "colab": {
      "name": "RadhaKrishna.ipynb",
      "version": "0.3.2",
      "provenance": [],
      "collapsed_sections": [
        "O5m9rfgD6CS_",
        "EGZerI7C6GgX"
      ]
    },
    "kernelspec": {
      "name": "python3",
      "display_name": "Python 3"
    },
    "accelerator": "GPU"
  },
  "cells": [
    {
      "metadata": {
        "id": "QiSIx3ArqJem",
        "colab_type": "text"
      },
      "cell_type": "markdown",
      "source": [
        "# Emotion Recognition CNN"
      ]
    },
    {
      "metadata": {
        "id": "WVR9whbiqN3S",
        "colab_type": "text"
      },
      "cell_type": "markdown",
      "source": [
        "## 1. Setup"
      ]
    },
    {
      "metadata": {
        "id": "RnrYu-UsqUtn",
        "colab_type": "text"
      },
      "cell_type": "markdown",
      "source": [
        "### 1.1 Import Data from Drive"
      ]
    },
    {
      "metadata": {
        "id": "04SMa4qtqzV8",
        "colab_type": "text"
      },
      "cell_type": "markdown",
      "source": [
        "#### 1.1.1 Mount drive"
      ]
    },
    {
      "metadata": {
        "id": "tp7GB4Iuqws1",
        "colab_type": "code",
        "outputId": "63893bc1-0272-4e1c-d756-b0f732055da5",
        "colab": {
          "base_uri": "https://localhost:8080/",
          "height": 122
        }
      },
      "cell_type": "code",
      "source": [
        "from google.colab import drive\n",
        "from google.colab import files\n",
        "drive.mount('/content/drive')"
      ],
      "execution_count": 1,
      "outputs": [
        {
          "output_type": "stream",
          "text": [
            "Go to this URL in a browser: https://accounts.google.com/o/oauth2/auth?client_id=947318989803-6bn6qk8qdgf4n4g3pfee6491hc0brc4i.apps.googleusercontent.com&redirect_uri=urn%3Aietf%3Awg%3Aoauth%3A2.0%3Aoob&scope=email%20https%3A%2F%2Fwww.googleapis.com%2Fauth%2Fdocs.test%20https%3A%2F%2Fwww.googleapis.com%2Fauth%2Fdrive%20https%3A%2F%2Fwww.googleapis.com%2Fauth%2Fdrive.photos.readonly%20https%3A%2F%2Fwww.googleapis.com%2Fauth%2Fpeopleapi.readonly&response_type=code\n",
            "\n",
            "Enter your authorization code:\n",
            "··········\n",
            "Mounted at /content/drive\n"
          ],
          "name": "stdout"
        }
      ]
    },
    {
      "metadata": {
        "id": "drcjkN6zq4ma",
        "colab_type": "text"
      },
      "cell_type": "markdown",
      "source": [
        "#### 1.1.2 List the contents of current working directory"
      ]
    },
    {
      "metadata": {
        "id": "9LiruWb_ijOT",
        "colab_type": "code",
        "outputId": "3b46f4cf-256f-4f53-8016-8477df18dc7a",
        "colab": {
          "base_uri": "https://localhost:8080/",
          "height": 34
        }
      },
      "cell_type": "code",
      "source": [
        "!ls"
      ],
      "execution_count": 2,
      "outputs": [
        {
          "output_type": "stream",
          "text": [
            "drive  sample_data\n"
          ],
          "name": "stdout"
        }
      ]
    },
    {
      "metadata": {
        "id": "KFxbMGPCr8np",
        "colab_type": "text"
      },
      "cell_type": "markdown",
      "source": [
        "#### 1.1.3 Copy the data zip file from Drive to current working directory"
      ]
    },
    {
      "metadata": {
        "id": "vgNAfUCMWJ0X",
        "colab_type": "code",
        "colab": {}
      },
      "cell_type": "code",
      "source": [
        "# !cp drive/'My Drive'/radhakrishna.tar.gz /content\n",
        "!cp drive/'My Drive'/krishna.tar.gz /content"
      ],
      "execution_count": 0,
      "outputs": []
    },
    {
      "metadata": {
        "id": "IneMYcYMsGQ0",
        "colab_type": "text"
      },
      "cell_type": "markdown",
      "source": [
        "#### 1.1.4 Unzip the data zip file"
      ]
    },
    {
      "metadata": {
        "id": "x0scdKUxWLbV",
        "colab_type": "code",
        "colab": {}
      },
      "cell_type": "code",
      "source": [
        "# !tar -xvzf radhakrishna.tar.gz\n",
        "!tar -xvzf krishna.tar.gz"
      ],
      "execution_count": 0,
      "outputs": []
    },
    {
      "metadata": {
        "id": "NJQ1XD8XsOIm",
        "colab_type": "text"
      },
      "cell_type": "markdown",
      "source": [
        "#### 1.1.5 List all the files in Aligned directory"
      ]
    },
    {
      "metadata": {
        "id": "nkvi8KcUXWLI",
        "colab_type": "code",
        "outputId": "31ecd4be-4a37-4ec9-fb35-d60b87c41afd",
        "colab": {
          "base_uri": "https://localhost:8080/",
          "height": 34
        }
      },
      "cell_type": "code",
      "source": [
        "!cd Aligned/ && ls"
      ],
      "execution_count": 5,
      "outputs": [
        {
          "output_type": "stream",
          "text": [
            "Negative  Neutral  Positive\n"
          ],
          "name": "stdout"
        }
      ]
    },
    {
      "metadata": {
        "id": "gOvphCo8sYxX",
        "colab_type": "text"
      },
      "cell_type": "markdown",
      "source": [
        "### 1.2 Import required libraries"
      ]
    },
    {
      "metadata": {
        "id": "4FZePxNaWSeb",
        "colab_type": "code",
        "outputId": "018a844c-6718-46e8-c999-0280a18847d9",
        "colab": {
          "base_uri": "https://localhost:8080/",
          "height": 34
        }
      },
      "cell_type": "code",
      "source": [
        "# Ignore warnings\n",
        "import warnings\n",
        "warnings.filterwarnings('always')\n",
        "warnings.filterwarnings('ignore')\n",
        "\n",
        "# Data Manipulation libraries\n",
        "import numpy as np\n",
        "import pandas as pd\n",
        "\n",
        "# Scikit-learn\n",
        "from sklearn.model_selection import train_test_split\n",
        "from sklearn.metrics import accuracy_score,precision_score,recall_score,confusion_matrix,roc_curve,roc_auc_score\n",
        "from sklearn.preprocessing import LabelEncoder\n",
        "from sklearn.utils import class_weight\n",
        "\n",
        "# Visualization libraries\n",
        "import matplotlib.pyplot as plt\n",
        "from matplotlib import style\n",
        " \n",
        "# Matplotlib configuration\n",
        "%matplotlib inline  \n",
        "style.use('fivethirtyeight')\n",
        "\n",
        "# Keras\n",
        "from keras import backend as K\n",
        "from keras.models import Sequential, Model\n",
        "from keras.layers import Dense\n",
        "from keras.optimizers import Adam,SGD,Adagrad,Adadelta,RMSprop\n",
        "from keras.utils import to_categorical\n",
        "from keras.callbacks import LambdaCallback, EarlyStopping\n",
        "from keras.preprocessing.image import ImageDataGenerator, img_to_array, load_img\n",
        "from keras.layers import Dropout, Flatten, Activation, Reshape, Input\n",
        "from keras.layers import Conv2D, MaxPooling2D, BatchNormalization, ZeroPadding2D, AveragePooling2D, GlobalAveragePooling2D\n",
        "from keras.layers.advanced_activations import PReLU\n",
        "from keras.utils.data_utils import get_file\n",
        "\n",
        "# Tensorflow\n",
        "import tensorflow as tf\n",
        "\n",
        "# Image manipulation libraries\n",
        "import cv2                  \n",
        "from PIL import Image\n",
        "\n",
        "# Other libraries\n",
        "import random\n",
        "from tqdm import tqdm\n",
        "import os\n",
        "import itertools\n",
        "\n",
        "# Set seed for random number generators\n",
        "np.random.seed(42)\n",
        "random.seed(42)\n",
        "tf.set_random_seed(42)"
      ],
      "execution_count": 6,
      "outputs": [
        {
          "output_type": "stream",
          "text": [
            "Using TensorFlow backend.\n"
          ],
          "name": "stderr"
        }
      ]
    },
    {
      "metadata": {
        "id": "yqAvSHWcuIeD",
        "colab_type": "text"
      },
      "cell_type": "markdown",
      "source": [
        "## 2. Data Preprocessing"
      ]
    },
    {
      "metadata": {
        "id": "ZU4XyV-6XfqA",
        "colab_type": "code",
        "colab": {}
      },
      "cell_type": "code",
      "source": [
        "# data\n",
        "X = []\n",
        "# labels\n",
        "X_labels = []\n",
        "\n",
        "# size of the image - 64x64\n",
        "IMG_SIZE = 64\n",
        "\n",
        "# assign variables for paths of each class\n",
        "POSITIVE_DIR = 'Aligned/Positive/'\n",
        "NEUTRAL_DIR = 'Aligned/Neutral/'\n",
        "NEGATIVE_DIR = 'Aligned/Negative/'"
      ],
      "execution_count": 0,
      "outputs": []
    },
    {
      "metadata": {
        "id": "b2aIiroQ2RKS",
        "colab_type": "text"
      },
      "cell_type": "markdown",
      "source": [
        "### 2.1 Function to generate training data from given images and labels"
      ]
    },
    {
      "metadata": {
        "id": "KQXpLNa2xlx8",
        "colab_type": "code",
        "colab": {}
      },
      "cell_type": "code",
      "source": [
        "def generate_data_from_images(emotion_type, directory):\n",
        "  # tqdm used for progress bar\n",
        "  # for each image in the specified directory\n",
        "  for image in tqdm(os.listdir(directory)):\n",
        "    filename = os.fsdecode(image)\n",
        "    if filename.endswith(\".jpg\"): \n",
        "      # read the colored image\n",
        "      image = cv2.imread(os.path.join(directory, image))\n",
        "      # resize image to 64x64\n",
        "      image = cv2.resize(image, (IMG_SIZE, IMG_SIZE))\n",
        "      \n",
        "      # append the image as a numpy array to X\n",
        "      X.append(np.array(image))\n",
        "      # append the label to Z\n",
        "      X_labels.append(emotion_type)"
      ],
      "execution_count": 0,
      "outputs": []
    },
    {
      "metadata": {
        "id": "OWxPNH1o2aUe",
        "colab_type": "text"
      },
      "cell_type": "markdown",
      "source": [
        "### 2.2 Generate data for \"Positive\" images"
      ]
    },
    {
      "metadata": {
        "id": "BP2Q3BdQX8aB",
        "colab_type": "code",
        "outputId": "fb5b9152-0f5b-42ee-cbc3-3a8a0af8b8c1",
        "colab": {
          "base_uri": "https://localhost:8080/",
          "height": 34
        }
      },
      "cell_type": "code",
      "source": [
        "generate_data_from_images('Positive', POSITIVE_DIR)"
      ],
      "execution_count": 9,
      "outputs": [
        {
          "output_type": "stream",
          "text": [
            "100%|██████████| 16801/16801 [00:03<00:00, 4502.07it/s]\n"
          ],
          "name": "stderr"
        }
      ]
    },
    {
      "metadata": {
        "id": "eMteW0Sr2mQ1",
        "colab_type": "text"
      },
      "cell_type": "markdown",
      "source": [
        "### 2.3 Generate data for \"Neutral\" images"
      ]
    },
    {
      "metadata": {
        "id": "NCKBZ7KwYBpL",
        "colab_type": "code",
        "outputId": "1de8d644-e0f2-41ad-b46a-3d24549e9eb3",
        "colab": {
          "base_uri": "https://localhost:8080/",
          "height": 34
        }
      },
      "cell_type": "code",
      "source": [
        "generate_data_from_images('Neutral', NEUTRAL_DIR)"
      ],
      "execution_count": 10,
      "outputs": [
        {
          "output_type": "stream",
          "text": [
            "100%|██████████| 9265/9265 [00:02<00:00, 4490.90it/s]\n"
          ],
          "name": "stderr"
        }
      ]
    },
    {
      "metadata": {
        "id": "6FMJpIyN2qvW",
        "colab_type": "text"
      },
      "cell_type": "markdown",
      "source": [
        "### 2.4 Generate data for \"Negative\" images"
      ]
    },
    {
      "metadata": {
        "id": "3l2zv79oYHNt",
        "colab_type": "code",
        "outputId": "72a498a5-f60b-4f71-ecf9-6a7899713edf",
        "colab": {
          "base_uri": "https://localhost:8080/",
          "height": 34
        }
      },
      "cell_type": "code",
      "source": [
        "generate_data_from_images('Negative', NEGATIVE_DIR)"
      ],
      "execution_count": 11,
      "outputs": [
        {
          "output_type": "stream",
          "text": [
            "100%|██████████| 8467/8467 [00:01<00:00, 4319.71it/s]\n"
          ],
          "name": "stderr"
        }
      ]
    },
    {
      "metadata": {
        "id": "1LMXZpB34I-_",
        "colab_type": "text"
      },
      "cell_type": "markdown",
      "source": [
        "### 2.5 Check the size of the dataset"
      ]
    },
    {
      "metadata": {
        "id": "R9F85Sa04CwS",
        "colab_type": "code",
        "outputId": "7e54895b-e94f-4c59-96b8-12a6f2449149",
        "colab": {
          "base_uri": "https://localhost:8080/",
          "height": 34
        }
      },
      "cell_type": "code",
      "source": [
        "len(X), len(X_labels)"
      ],
      "execution_count": 12,
      "outputs": [
        {
          "output_type": "execute_result",
          "data": {
            "text/plain": [
              "(34530, 34530)"
            ]
          },
          "metadata": {
            "tags": []
          },
          "execution_count": 12
        }
      ]
    },
    {
      "metadata": {
        "id": "35ZaM-Sk4VuV",
        "colab_type": "text"
      },
      "cell_type": "markdown",
      "source": [
        "### 2.6 Visualize some images from the dataset"
      ]
    },
    {
      "metadata": {
        "id": "EEeqPEaW9awi",
        "colab_type": "code",
        "outputId": "eb783c4f-62f3-4507-f8c2-40268a6f2f76",
        "colab": {
          "base_uri": "https://localhost:8080/",
          "height": 652
        }
      },
      "cell_type": "code",
      "source": [
        "cols = 3\n",
        "rows = 3\n",
        "fig, axis = plt.subplots(rows, cols)\n",
        "fig.set_size_inches(10, 10)\n",
        "for i in range(rows):\n",
        "  for j in range(cols):\n",
        "    image_index = random.randint(0, len(X))\n",
        "    axis[i, j].imshow(X[image_index])\n",
        "    axis[i, j].set_title(X_labels[image_index])"
      ],
      "execution_count": 13,
      "outputs": [
        {
          "output_type": "display_data",
          "data": {
            "image/png": "[encoded data removed]",
            "text/plain": [
              "<Figure size 720x720 with 9 Axes>"
            ]
          },
          "metadata": {
            "tags": []
          }
        }
      ]
    },
    {
      "metadata": {
        "id": "h0bOK8oAN0ct",
        "colab_type": "text"
      },
      "cell_type": "markdown",
      "source": [
        "### 2.7 Label Encoding and One-Hot Encoding the labels (Convert categorical text data into model-understandable numerical data)\n",
        "Basically, we want to convert the 3 label classes \"positive\", \"neutral\" and \"negative\" into corresponding numerical classes - 2, 1 and 0."
      ]
    },
    {
      "metadata": {
        "id": "2SQaW6wCYQmk",
        "colab_type": "code",
        "outputId": "8e608c5d-8c62-48dc-e9be-7ea69f4fb590",
        "colab": {
          "base_uri": "https://localhost:8080/",
          "height": 34
        }
      },
      "cell_type": "code",
      "source": [
        "# initialize the label encoder class\n",
        "labelencoder = LabelEncoder()\n",
        "\n",
        "# Convert the 3 classes \"positive\", \"neutral\" and \"negative\" into corresponding \n",
        "# numerical classes - 2, 1 and 0.\n",
        "Y = labelencoder.fit_transform(X_labels)\n",
        "# Check the classes applied by the Label Encoder\n",
        "labelencoder_classes = dict(zip(labelencoder.classes_, labelencoder.transform(labelencoder.classes_)))\n",
        "print(labelencoder_classes)\n",
        "# Apply one-hot encoding to convert the label encoded categorical data\n",
        "# into multiple columns where each numerical class is replaced by 0 or 1\n",
        "Y = to_categorical(Y,3)\n",
        "\n",
        "# Convert X into a numpy array\n",
        "X = np.array(X)\n",
        "# Normalize all the pixel values for each image by diving by 255\n",
        "X = X/255"
      ],
      "execution_count": 14,
      "outputs": [
        {
          "output_type": "stream",
          "text": [
            "{'Negative': 0, 'Neutral': 1, 'Positive': 2}\n"
          ],
          "name": "stdout"
        }
      ]
    },
    {
      "metadata": {
        "id": "FwDcQPiGCo_L",
        "colab_type": "text"
      },
      "cell_type": "markdown",
      "source": [
        "### 2.8 Split the data into training set and validation set"
      ]
    },
    {
      "metadata": {
        "id": "W0FzqWNUYaTt",
        "colab_type": "code",
        "colab": {}
      },
      "cell_type": "code",
      "source": [
        "X_train, X_test, y_train, y_test = train_test_split(X, Y, test_size=0.2, random_state=42)"
      ],
      "execution_count": 0,
      "outputs": []
    },
    {
      "metadata": {
        "id": "gxo1VoxzEP_6",
        "colab_type": "text"
      },
      "cell_type": "markdown",
      "source": [
        "## 3. Modelling"
      ]
    },
    {
      "metadata": {
        "id": "M2Dm1bqCEZ1s",
        "colab_type": "text"
      },
      "cell_type": "markdown",
      "source": [
        "### 3.1 Building the CNN Model"
      ]
    },
    {
      "metadata": {
        "id": "_gWBTFW6Ef_E",
        "colab_type": "text"
      },
      "cell_type": "markdown",
      "source": [
        "#### 3.1.1 Model 1"
      ]
    },
    {
      "metadata": {
        "id": "terYvOc2debM",
        "colab_type": "code",
        "colab": {}
      },
      "cell_type": "code",
      "source": [
        "model = Sequential()\n",
        "\n",
        "# Convolution layer\n",
        "# (i) filters = 32 (the number of output filters i.e. number of feature maps \n",
        "# in the convolution)\n",
        "# (ii) kernel_size = 5x5 (the height and width of the 2D convolution kernel \n",
        "# (also known as a feature detector))\n",
        "# (iii) activation = relu\n",
        "# (iv) input_shape = 64x64x3 because our input images are 64x64 and rgb\n",
        "model.add(Conv2D(filters = 32, kernel_size = (5,5),padding = 'Same',activation ='relu', input_shape = (64,64,3)))\n",
        "# Max pooling layer\n",
        "model.add(MaxPooling2D(pool_size=(2,2)))\n",
        "\n",
        "\n",
        "model.add(Conv2D(filters = 64, kernel_size = (3,3),padding = 'Same',activation ='relu'))\n",
        "model.add(MaxPooling2D(pool_size=(2,2), strides=(2,2)))\n",
        " \n",
        "\n",
        "model.add(Conv2D(filters = 96, kernel_size = (3,3),padding = 'Same',activation ='relu'))\n",
        "model.add(MaxPooling2D(pool_size=(2,2), strides=(2,2)))\n",
        "\n",
        "model.add(Conv2D(filters = 96, kernel_size = (3,3),padding = 'Same',activation ='relu'))\n",
        "model.add(MaxPooling2D(pool_size=(2,2), strides=(2,2)))\n",
        "\n",
        "model.add(Flatten())\n",
        "\n",
        "# fully connected layer\n",
        "model.add(Dense(512))\n",
        "\n",
        "# Relu activation layer\n",
        "model.add(Activation('relu'))\n",
        "\n",
        "# Fully connected layer with softmax activation\n",
        "model.add(Dense(3, activation = \"softmax\"))\n",
        "\n",
        "model.compile(optimizer=Adam(lr=0.001),loss='categorical_crossentropy',metrics=['accuracy'])"
      ],
      "execution_count": 0,
      "outputs": []
    },
    {
      "metadata": {
        "id": "FPAXn0A5ElM9",
        "colab_type": "text"
      },
      "cell_type": "markdown",
      "source": [
        "#### 3.1.2 Model 2"
      ]
    },
    {
      "metadata": {
        "id": "XebqxQ0sl2R2",
        "colab_type": "code",
        "outputId": "078cf650-6aa8-410b-91b0-7c2cc1b54220",
        "colab": {
          "base_uri": "https://localhost:8080/",
          "height": 139
        }
      },
      "cell_type": "code",
      "source": [
        "# Adapted from https://github.com/a514514772/Real-Time-Facial-Expression-Recognition-with-DeepLearning\n",
        "\n",
        "model = Sequential()\n",
        "\n",
        "# Zero-padding layer to add 1 pixel of padding to the height and width of the\n",
        "# image\n",
        "model.add(ZeroPadding2D((1,1), input_shape=(64,64,3)))\n",
        "# Convolution layer\n",
        "# (i) filters = 32 (the number of output filters i.e. number of feature maps \n",
        "# in the convolution)\n",
        "# (ii) kernel_size = 3x3 (the height and width of the 2D convolution kernel \n",
        "# (also known as a feature detector))\n",
        "# (iii) activation = relu\n",
        "model.add(Conv2D(32, 3, 3, activation='relu'))\n",
        "\n",
        "model.add(ZeroPadding2D((1,1)))\n",
        "model.add(Conv2D(32, 3, 3, activation='relu'))\n",
        "# max pooling layer\n",
        "model.add(MaxPooling2D((2,2), strides=(2,2)))\n",
        "\n",
        "model.add(ZeroPadding2D((1,1)))\n",
        "model.add(Conv2D(64, 3, 3, activation='relu'))\n",
        "\n",
        "model.add(ZeroPadding2D((1,1)))\n",
        "model.add(Conv2D(64, 3, 3, activation='relu'))\n",
        "model.add(MaxPooling2D((2,2), strides=(2,2)))\n",
        "\n",
        "model.add(ZeroPadding2D((1,1)))\n",
        "model.add(Conv2D(128, 3, 3, activation='relu'))\n",
        "\n",
        "model.add(ZeroPadding2D((1,1)))\n",
        "model.add(Conv2D(128, 3, 3, activation='relu'))\n",
        "\n",
        "model.add(ZeroPadding2D((1,1)))\n",
        "model.add(Conv2D(128, 3, 3, activation='relu'))\n",
        "model.add(MaxPooling2D((2,2), strides=(2,2)))\n",
        "\n",
        "model.add(Flatten())\n",
        "\n",
        "# fully connected layer with ReLu activation\n",
        "model.add(Dense(1024, activation='relu'))\n",
        "# dropout\n",
        "model.add(Dropout(0.5))\n",
        "\n",
        "model.add(Dense(512, activation='relu'))\n",
        "model.add(Dropout(0.5))\n",
        "\n",
        "# fully connected layer with softmax activation\n",
        "model.add(Dense(3, activation='softmax'))\n",
        "\n",
        "model.compile(optimizer=Adam(lr=0.001),loss='categorical_crossentropy',metrics=['accuracy'])"
      ],
      "execution_count": 0,
      "outputs": [
        {
          "output_type": "stream",
          "text": [
            "WARNING:tensorflow:From /usr/local/lib/python3.6/dist-packages/tensorflow/python/framework/op_def_library.py:263: colocate_with (from tensorflow.python.framework.ops) is deprecated and will be removed in a future version.\n",
            "Instructions for updating:\n",
            "Colocations handled automatically by placer.\n",
            "WARNING:tensorflow:From /usr/local/lib/python3.6/dist-packages/keras/backend/tensorflow_backend.py:3445: calling dropout (from tensorflow.python.ops.nn_ops) with keep_prob is deprecated and will be removed in a future version.\n",
            "Instructions for updating:\n",
            "Please use `rate` instead of `keep_prob`. Rate should be set to `rate = 1 - keep_prob`.\n"
          ],
          "name": "stdout"
        }
      ]
    },
    {
      "metadata": {
        "id": "KWaSeOkFEnF3",
        "colab_type": "text"
      },
      "cell_type": "markdown",
      "source": [
        "#### 3.1.3 Model 3"
      ]
    },
    {
      "metadata": {
        "id": "V6hu02bB38iL",
        "colab_type": "code",
        "outputId": "c98840e5-2c65-44df-df8b-6a8944fcbffb",
        "colab": {
          "base_uri": "https://localhost:8080/",
          "height": 139
        }
      },
      "cell_type": "code",
      "source": [
        "model = Sequential()\n",
        "\n",
        "# Block 1\n",
        "\n",
        "# Convolution layer\n",
        "# (i) filters = 64 (the number of output filters i.e. number of feature maps \n",
        "# in the convolution)\n",
        "# (ii) kernel_size = 5x5 (the height and width of the 2D convolution kernel \n",
        "# (also known as a feature detector))\n",
        "# (iii) border_mode = valid. This gives an output that is smaller than the \n",
        "# input because the convolution is only computed where the input and the filter \n",
        "# fully overlap.\n",
        "# (iv) input_shape = 64x64x3 because our input images are 64x64 and rgb\n",
        "model.add(Conv2D(64, 5, 5, border_mode='valid', input_shape=(64, 64, 3)))\n",
        "# Parametric Rectified Linear Unit activation layer\n",
        "model.add(PReLU(init='zero', weights=None))\n",
        "# Zero-padding layer to add 2 pixels of padding to the height and width of the\n",
        "# image\n",
        "model.add(ZeroPadding2D(padding=(2, 2), dim_ordering='tf'))\n",
        "# Max pooling layer\n",
        "model.add(MaxPooling2D(pool_size=(5, 5),strides=(2, 2)))\n",
        "# Zero-padding layer to add 1 pixel of padding to the height and width of the\n",
        "# image\n",
        "model.add(ZeroPadding2D(padding=(1, 1), dim_ordering='tf'))\n",
        "\n",
        "# Block 2\n",
        "model.add(Conv2D(64, 3, 3))\n",
        "model.add(PReLU(init='zero', weights=None))\n",
        "model.add(ZeroPadding2D(padding=(1, 1), dim_ordering='tf')) \n",
        "\n",
        "# Block 3\n",
        "model.add(Conv2D(64, 3, 3))\n",
        "model.add(PReLU(init='zero', weights=None))\n",
        "model.add(AveragePooling2D(pool_size=(3, 3),strides=(2, 2)))\n",
        "model.add(ZeroPadding2D(padding=(1, 1), dim_ordering='tf'))\n",
        "\n",
        "# Block 4\n",
        "model.add(Conv2D(128, 3, 3))\n",
        "model.add(PReLU(init='zero', weights=None))\n",
        "model.add(ZeroPadding2D(padding=(1, 1), dim_ordering='tf'))\n",
        "\n",
        "# Block 5\n",
        "model.add(Conv2D(128, 3, 3))\n",
        "model.add(PReLU(init='zero', weights=None))\n",
        "model.add(ZeroPadding2D(padding=(1, 1), dim_ordering='tf'))\n",
        "# Average pooling\n",
        "model.add(AveragePooling2D(pool_size=(3, 3),strides=(2, 2)))\n",
        "\n",
        "# Block 6\n",
        "model.add(Flatten())\n",
        "\n",
        "# Block 7\n",
        "# fully connected layer\n",
        "model.add(Dense(2048))\n",
        "model.add(PReLU(init='zero', weights=None))\n",
        "# dropout\n",
        "model.add(Dropout(0.2))\n",
        "\n",
        "# Block 8\n",
        "model.add(Dense(1024))\n",
        "model.add(PReLU(init='zero', weights=None))\n",
        "model.add(Dropout(0.2))\n",
        "\n",
        "# Block 8\n",
        "model.add(Dense(512))\n",
        "model.add(PReLU(init='zero', weights=None))\n",
        "model.add(Dropout(0.2))\n",
        "\n",
        "# Block 9\n",
        "model.add(Dense(3))\n",
        "\n",
        "# Block 10\n",
        "# softmax activation function\n",
        "model.add(Activation('softmax'))\n",
        "\n",
        "# optimizer = Adadelta(lr=0.1, rho=0.95, epsilon=1e-08)\n",
        "\n",
        "# optimizer = RMSprop(lr=0.001, rho=0.9, epsilon=None, decay=0.0)\n",
        "# optimizer = Adam(lr=0.001, beta_1=0.9, beta_2=0.999, epsilon=None, decay=0.0, amsgrad=False)\n",
        "# optimizer = Adadelta(lr=1.0, rho=0.95, epsilon=None, decay=0.0)\n",
        "\n",
        "# after optimization\n",
        "optimizer = RMSprop(lr=0.001, rho=0.9, epsilon=None, decay=0.0)"
      ],
      "execution_count": 0,
      "outputs": [
        {
          "output_type": "stream",
          "text": [
            "WARNING:tensorflow:From /usr/local/lib/python3.6/dist-packages/tensorflow/python/framework/op_def_library.py:263: colocate_with (from tensorflow.python.framework.ops) is deprecated and will be removed in a future version.\n",
            "Instructions for updating:\n",
            "Colocations handled automatically by placer.\n",
            "WARNING:tensorflow:From /usr/local/lib/python3.6/dist-packages/keras/backend/tensorflow_backend.py:3445: calling dropout (from tensorflow.python.ops.nn_ops) with keep_prob is deprecated and will be removed in a future version.\n",
            "Instructions for updating:\n",
            "Please use `rate` instead of `keep_prob`. Rate should be set to `rate = 1 - keep_prob`.\n"
          ],
          "name": "stdout"
        }
      ]
    },
    {
      "metadata": {
        "id": "CsK31ODbEpVh",
        "colab_type": "text"
      },
      "cell_type": "markdown",
      "source": [
        "#### 3.1.4 Model 4"
      ]
    },
    {
      "metadata": {
        "id": "qKawa2yEs5eG",
        "colab_type": "code",
        "outputId": "464107c3-a409-4f53-bf88-e3b1a2c71c5a",
        "colab": {
          "base_uri": "https://localhost:8080/",
          "height": 139
        }
      },
      "cell_type": "code",
      "source": [
        "model = Sequential()\n",
        "\n",
        "model.add(ZeroPadding2D((1,1), input_shape=(64, 64, 3)))\n",
        "\n",
        "# Convolution layer\n",
        "# (i) filters = 32 (the number of output filters i.e. number of feature maps \n",
        "# in the convolution)\n",
        "# (ii) kernel_size = 3x3 (the height and width of the 2D convolution kernel \n",
        "# (also known as a feature detector))\n",
        "# (iii) activation = ReLu\n",
        "model.add(Conv2D(32, 3, 3, activation='relu'))\n",
        "# Zero-padding layer to add 1 pixel of padding to the height and width of the\n",
        "# image\n",
        "model.add(ZeroPadding2D((1,1)))\n",
        "model.add(Conv2D(32, 3, 3, activation='relu'))\n",
        "# max pooling layer\n",
        "model.add(MaxPooling2D((2,2), strides=(2,2)))\n",
        "model.add(ZeroPadding2D((1,1)))\n",
        "model.add(Conv2D(64, 3, 3, activation='relu'))\n",
        "model.add(ZeroPadding2D((1,1)))\n",
        "model.add(Conv2D(64, 3, 3, activation='relu'))\n",
        "model.add(MaxPooling2D((2,2), strides=(2,2)))\n",
        "model.add(ZeroPadding2D((1,1)))\n",
        "model.add(Conv2D(128, 3, 3, activation='relu'))\n",
        "model.add(ZeroPadding2D((1,1)))\n",
        "model.add(Conv2D(128, 3, 3, activation='relu'))\n",
        "model.add(ZeroPadding2D((1,1)))\n",
        "model.add(Conv2D(128, 3, 3, activation='relu'))\n",
        "model.add(MaxPooling2D((2,2), strides=(2,2)))\n",
        "\n",
        "\n",
        "model.add(Flatten())\n",
        "\n",
        "# fully connected layer with ReLu activation\n",
        "model.add(Dense(1024, activation='relu'))\n",
        "model.add(Dropout(0.5))\n",
        "model.add(Dense(512, activation='relu'))\n",
        "model.add(Dropout(0.5))\n",
        "# fully connected layer with softmax activation\n",
        "model.add(Dense(3, activation='softmax'))\n",
        "\n",
        "model.compile(optimizer=Adam(lr=0.001),loss='categorical_crossentropy',metrics=['accuracy'])"
      ],
      "execution_count": 0,
      "outputs": [
        {
          "output_type": "stream",
          "text": [
            "WARNING:tensorflow:From /usr/local/lib/python3.6/dist-packages/tensorflow/python/framework/op_def_library.py:263: colocate_with (from tensorflow.python.framework.ops) is deprecated and will be removed in a future version.\n",
            "Instructions for updating:\n",
            "Colocations handled automatically by placer.\n",
            "WARNING:tensorflow:From /usr/local/lib/python3.6/dist-packages/keras/backend/tensorflow_backend.py:3445: calling dropout (from tensorflow.python.ops.nn_ops) with keep_prob is deprecated and will be removed in a future version.\n",
            "Instructions for updating:\n",
            "Please use `rate` instead of `keep_prob`. Rate should be set to `rate = 1 - keep_prob`.\n"
          ],
          "name": "stdout"
        }
      ]
    },
    {
      "metadata": {
        "id": "v6ajL3a3Esdh",
        "colab_type": "text"
      },
      "cell_type": "markdown",
      "source": [
        "#### 3.1.5 Model 5"
      ]
    },
    {
      "metadata": {
        "id": "W5xy6AYuUwVO",
        "colab_type": "code",
        "colab": {}
      },
      "cell_type": "code",
      "source": [
        "model = Sequential()\n",
        "\n",
        "model.add(Conv2D(filters = 64, kernel_size = (11,11),padding = 'Same',activation ='relu', input_shape = (64,64,3)))\n",
        "model.add(MaxPooling2D(pool_size=(3,3)))\n",
        "\n",
        "model.add(Conv2D(filters = 64, kernel_size = (5,5),padding = 'Same',activation ='relu'))\n",
        "model.add(MaxPooling2D(pool_size=(3,3)))\n",
        "\n",
        "model.add(Conv2D(filters = 128, kernel_size = (3,3),padding = 'Same',activation ='relu'))\n",
        "\n",
        "model.add(Flatten())\n",
        "model.add(Dense(512))\n",
        "model.add(Activation('relu'))\n",
        "model.add(Dense(3, activation = \"softmax\"))\n",
        "\n",
        "model.compile(optimizer=Adam(lr=0.001),loss='categorical_crossentropy',metrics=['accuracy'])"
      ],
      "execution_count": 0,
      "outputs": []
    },
    {
      "metadata": {
        "id": "O5m9rfgD6CS_",
        "colab_type": "text"
      },
      "cell_type": "markdown",
      "source": [
        "#### 3.1.6 Model 6 (Transfer learning with VGGFace)"
      ]
    },
    {
      "metadata": {
        "id": "BFL5btkx7mJv",
        "colab_type": "code",
        "outputId": "60b4e00a-3850-4d10-800e-3d1cf0486dce",
        "colab": {
          "base_uri": "https://localhost:8080/",
          "height": 343
        }
      },
      "cell_type": "code",
      "source": [
        "!pip install git+https://github.com/rcmalli/keras-vggface.git"
      ],
      "execution_count": 16,
      "outputs": [
        {
          "output_type": "stream",
          "text": [
            "Collecting git+https://github.com/rcmalli/keras-vggface.git\n",
            "  Cloning https://github.com/rcmalli/keras-vggface.git to /tmp/pip-req-build-bfpbjoqu\n",
            "Requirement already satisfied: numpy>=1.9.1 in /usr/local/lib/python3.6/dist-packages (from keras-vggface==0.5) (1.14.6)\n",
            "Requirement already satisfied: scipy>=0.14 in /usr/local/lib/python3.6/dist-packages (from keras-vggface==0.5) (1.1.0)\n",
            "Requirement already satisfied: h5py in /usr/local/lib/python3.6/dist-packages (from keras-vggface==0.5) (2.8.0)\n",
            "Requirement already satisfied: pillow in /usr/local/lib/python3.6/dist-packages (from keras-vggface==0.5) (4.1.1)\n",
            "Requirement already satisfied: keras in /usr/local/lib/python3.6/dist-packages (from keras-vggface==0.5) (2.2.4)\n",
            "Requirement already satisfied: six>=1.9.0 in /usr/local/lib/python3.6/dist-packages (from keras-vggface==0.5) (1.11.0)\n",
            "Requirement already satisfied: pyyaml in /usr/local/lib/python3.6/dist-packages (from keras-vggface==0.5) (3.13)\n",
            "Requirement already satisfied: olefile in /usr/local/lib/python3.6/dist-packages (from pillow->keras-vggface==0.5) (0.46)\n",
            "Requirement already satisfied: keras-preprocessing>=1.0.5 in /usr/local/lib/python3.6/dist-packages (from keras->keras-vggface==0.5) (1.0.9)\n",
            "Requirement already satisfied: keras-applications>=1.0.6 in /usr/local/lib/python3.6/dist-packages (from keras->keras-vggface==0.5) (1.0.7)\n",
            "Building wheels for collected packages: keras-vggface\n",
            "  Building wheel for keras-vggface (setup.py) ... \u001b[?25ldone\n",
            "\u001b[?25h  Stored in directory: /tmp/pip-ephem-wheel-cache-yf26kr4b/wheels/36/07/46/06c25ce8e9cd396dabe151ea1d8a2bc28dafcb11321c1f3a6d\n",
            "Successfully built keras-vggface\n",
            "Installing collected packages: keras-vggface\n",
            "Successfully installed keras-vggface-0.5\n"
          ],
          "name": "stdout"
        }
      ]
    },
    {
      "metadata": {
        "id": "I80FiOPF7oNq",
        "colab_type": "code",
        "colab": {
          "base_uri": "https://localhost:8080/",
          "height": 122
        },
        "outputId": "38851a0e-c891-4e96-eb1a-7c7e95811a85"
      },
      "cell_type": "code",
      "source": [
        "from keras.engine import Model\n",
        "from keras_vggface.vggface import VGGFace\n",
        "\n",
        "# initialize the VGGFace model\n",
        "# exclude the top layer and set input shape to the shape of our images\n",
        "vgg_model = VGGFace(include_top=False, input_shape=(64, 64, 3))\n",
        "# get the output of the last layer\n",
        "last_layer = vgg_model.get_layer('pool5').output\n",
        "# flatten the last layer\n",
        "x = Flatten(name='flatten')(last_layer)\n",
        "# add a fully connected layer with ReLu activation\n",
        "x = Dense(512, activation='relu', name='fc6')(x)\n",
        "# add another fully connected layer with ReLu activation\n",
        "x = Dense(512, activation='relu', name='fc7')(x)\n",
        "# add a final fully connected layer with 3 neurons corresponding to our 3 classes and \n",
        "# a softmax activation since this is a multiclass classification problem\n",
        "out = Dense(3, activation='softmax', name='fc8')(x)\n",
        "# set the input and output for the model\n",
        "model = Model(vgg_model.input, out)\n",
        "\n",
        "# compile the model\n",
        "model.compile(optimizer=Adam(lr=0.001),loss='categorical_crossentropy',metrics=['accuracy'])"
      ],
      "execution_count": 19,
      "outputs": [
        {
          "output_type": "stream",
          "text": [
            "WARNING:tensorflow:From /usr/local/lib/python3.6/dist-packages/tensorflow/python/framework/op_def_library.py:263: colocate_with (from tensorflow.python.framework.ops) is deprecated and will be removed in a future version.\n",
            "Instructions for updating:\n",
            "Colocations handled automatically by placer.\n",
            "Downloading data from https://github.com/rcmalli/keras-vggface/releases/download/v2.0/rcmalli_vggface_tf_notop_vgg16.h5\n",
            "58916864/58909280 [==============================] - 1s 0us/step\n"
          ],
          "name": "stdout"
        }
      ]
    },
    {
      "metadata": {
        "id": "EGZerI7C6GgX",
        "colab_type": "text"
      },
      "cell_type": "markdown",
      "source": [
        "#### 3.1.7 Model 7 (Transfer learning with VGG-16)"
      ]
    },
    {
      "metadata": {
        "id": "fpuNlu3K-cAW",
        "colab_type": "code",
        "colab": {}
      },
      "cell_type": "code",
      "source": [
        "# set the paths for the weights file of VGG16\n",
        "WEIGHTS_PATH = 'https://github.com/fchollet/deep-learning-models/releases/download/v0.1/vgg16_weights_tf_dim_ordering_tf_kernels.h5'\n",
        "WEIGHTS_PATH_NO_TOP = 'https://github.com/fchollet/deep-learning-models/releases/download/v0.1/vgg16_weights_tf_dim_ordering_tf_kernels_notop.h5'\n",
        "\n",
        "# define the model\n",
        "def VGG16():\n",
        "\n",
        "    img_input = Input(shape=(64, 64, 3))\n",
        "    # Block 1\n",
        "    x = Conv2D(64, (3, 3), activation='relu', padding='same', name='block1_conv1')(img_input)\n",
        "    x = Conv2D(64, (3, 3), activation='relu', padding='same', name='block1_conv2')(x)\n",
        "    x = MaxPooling2D((2, 2), strides=(2, 2), name='block1_pool')(x)\n",
        "\n",
        "    # Block 2\n",
        "    x = Conv2D(128, (3, 3), activation='relu', padding='same', name='block2_conv1')(x)\n",
        "    x = Conv2D(128, (3, 3), activation='relu', padding='same', name='block2_conv2')(x)\n",
        "    x = MaxPooling2D((2, 2), strides=(2, 2), name='block2_pool')(x)\n",
        "\n",
        "    # Block 3\n",
        "    x = Conv2D(256, (3, 3), activation='relu', padding='same', name='block3_conv1')(x)\n",
        "    x = Conv2D(256, (3, 3), activation='relu', padding='same', name='block3_conv2')(x)\n",
        "    x = Conv2D(256, (3, 3), activation='relu', padding='same', name='block3_conv3')(x)\n",
        "    x = MaxPooling2D((2, 2), strides=(2, 2), name='block3_pool')(x)\n",
        "\n",
        "    # Block 4\n",
        "    x = Conv2D(512, (3, 3), activation='relu', padding='same', name='block4_conv1')(x)\n",
        "    x = Conv2D(512, (3, 3), activation='relu', padding='same', name='block4_conv2')(x)\n",
        "    x = Conv2D(512, (3, 3), activation='relu', padding='same', name='block4_conv3')(x)\n",
        "    x = MaxPooling2D((2, 2), strides=(2, 2), name='block4_pool')(x)\n",
        "\n",
        "    # Block 5\n",
        "    x = Conv2D(512, (3, 3), activation='relu', padding='same', name='block5_conv1')(x)\n",
        "    x = Conv2D(512, (3, 3), activation='relu', padding='same', name='block5_conv2')(x)\n",
        "    x = Conv2D(512, (3, 3), activation='relu', padding='same', name='block5_conv3')(x)\n",
        "    x = MaxPooling2D((2, 2), strides=(2, 2), name='block5_pool')(x)\n",
        "\n",
        "    x = GlobalAveragePooling2D()(x)\n",
        "\n",
        "    top = Dense(256, activation='relu', name='fc')(x)\n",
        "    top = Dropout(0.5)(top)\n",
        "    out = Dense(3, activation='softmax', name='predictions')(top)\n",
        "\n",
        "    model = Model(img_input, out, name='vgg16')\n",
        "\n",
        "    weights_path = get_file('vgg16_weights_tf_dim_ordering_tf_kernels_notop.h5',\n",
        "                            WEIGHTS_PATH_NO_TOP,\n",
        "                            cache_subdir='models')\n",
        "    model.load_weights(weights_path, by_name=True)\n",
        "    \n",
        "    return model\n",
        "\n",
        "\n",
        "lr = 0.0001\n",
        "\n",
        "optimizer = Adagrad(lr, decay=1e-4)\n",
        "model = VGG16()\n",
        "model.compile(optimizer=optimizer, loss='categorical_crossentropy', metrics=['accuracy'])"
      ],
      "execution_count": 0,
      "outputs": []
    },
    {
      "metadata": {
        "id": "RuWrAvHhEzeR",
        "colab_type": "text"
      },
      "cell_type": "markdown",
      "source": [
        "### 3.2 Set Model Training Parameters"
      ]
    },
    {
      "metadata": {
        "id": "w5RGS371YkwK",
        "colab_type": "code",
        "colab": {}
      },
      "cell_type": "code",
      "source": [
        "batch_size=128\n",
        "# batch_size = 64\n",
        "# epochs=10"
      ],
      "execution_count": 0,
      "outputs": []
    },
    {
      "metadata": {
        "id": "4hyUKZWAFJDL",
        "colab_type": "text"
      },
      "cell_type": "markdown",
      "source": [
        "### 3.3 Data Augmentation"
      ]
    },
    {
      "metadata": {
        "id": "HK_v48BQYrDA",
        "colab_type": "code",
        "colab": {}
      },
      "cell_type": "code",
      "source": [
        "# define the data generator\n",
        "datagen = ImageDataGenerator(\n",
        "        featurewise_center=False,\n",
        "        samplewise_center=False,\n",
        "        featurewise_std_normalization=False,\n",
        "        samplewise_std_normalization=False,\n",
        "        zca_whitening=False,\n",
        "        zoom_range = 0.1, \n",
        "        vertical_flip=False)\n",
        "\n",
        "# fit on our training set\n",
        "datagen.fit(X_train)"
      ],
      "execution_count": 0,
      "outputs": []
    },
    {
      "metadata": {
        "id": "_JNwOb_dFRDR",
        "colab_type": "text"
      },
      "cell_type": "markdown",
      "source": [
        "### 3.4 Model Summary"
      ]
    },
    {
      "metadata": {
        "id": "qOhddG8_Yvcx",
        "colab_type": "code",
        "outputId": "079c4372-5b88-43d0-eb1f-5d9e8a467b27",
        "colab": {
          "base_uri": "https://localhost:8080/",
          "height": 918
        }
      },
      "cell_type": "code",
      "source": [
        "model.summary()"
      ],
      "execution_count": 0,
      "outputs": [
        {
          "output_type": "stream",
          "text": [
            "_________________________________________________________________\n",
            "Layer (type)                 Output Shape              Param #   \n",
            "=================================================================\n",
            "input_1 (InputLayer)         (None, 64, 64, 3)         0         \n",
            "_________________________________________________________________\n",
            "conv1_1 (Conv2D)             (None, 64, 64, 64)        1792      \n",
            "_________________________________________________________________\n",
            "conv1_2 (Conv2D)             (None, 64, 64, 64)        36928     \n",
            "_________________________________________________________________\n",
            "pool1 (MaxPooling2D)         (None, 32, 32, 64)        0         \n",
            "_________________________________________________________________\n",
            "conv2_1 (Conv2D)             (None, 32, 32, 128)       73856     \n",
            "_________________________________________________________________\n",
            "conv2_2 (Conv2D)             (None, 32, 32, 128)       147584    \n",
            "_________________________________________________________________\n",
            "pool2 (MaxPooling2D)         (None, 16, 16, 128)       0         \n",
            "_________________________________________________________________\n",
            "conv3_1 (Conv2D)             (None, 16, 16, 256)       295168    \n",
            "_________________________________________________________________\n",
            "conv3_2 (Conv2D)             (None, 16, 16, 256)       590080    \n",
            "_________________________________________________________________\n",
            "conv3_3 (Conv2D)             (None, 16, 16, 256)       590080    \n",
            "_________________________________________________________________\n",
            "pool3 (MaxPooling2D)         (None, 8, 8, 256)         0         \n",
            "_________________________________________________________________\n",
            "conv4_1 (Conv2D)             (None, 8, 8, 512)         1180160   \n",
            "_________________________________________________________________\n",
            "conv4_2 (Conv2D)             (None, 8, 8, 512)         2359808   \n",
            "_________________________________________________________________\n",
            "conv4_3 (Conv2D)             (None, 8, 8, 512)         2359808   \n",
            "_________________________________________________________________\n",
            "pool4 (MaxPooling2D)         (None, 4, 4, 512)         0         \n",
            "_________________________________________________________________\n",
            "conv5_1 (Conv2D)             (None, 4, 4, 512)         2359808   \n",
            "_________________________________________________________________\n",
            "conv5_2 (Conv2D)             (None, 4, 4, 512)         2359808   \n",
            "_________________________________________________________________\n",
            "conv5_3 (Conv2D)             (None, 4, 4, 512)         2359808   \n",
            "_________________________________________________________________\n",
            "pool5 (MaxPooling2D)         (None, 2, 2, 512)         0         \n",
            "_________________________________________________________________\n",
            "flatten (Flatten)            (None, 2048)              0         \n",
            "_________________________________________________________________\n",
            "fc6 (Dense)                  (None, 512)               1049088   \n",
            "_________________________________________________________________\n",
            "fc7 (Dense)                  (None, 512)               262656    \n",
            "_________________________________________________________________\n",
            "fc8 (Dense)                  (None, 3)                 1539      \n",
            "=================================================================\n",
            "Total params: 16,027,971\n",
            "Trainable params: 16,027,971\n",
            "Non-trainable params: 0\n",
            "_________________________________________________________________\n"
          ],
          "name": "stdout"
        }
      ]
    },
    {
      "metadata": {
        "id": "66WV9UJeFbS5",
        "colab_type": "text"
      },
      "cell_type": "markdown",
      "source": [
        "### 3.5 Estimate class weights since our dataset is unbalanced"
      ]
    },
    {
      "metadata": {
        "id": "VjqWJai2amI3",
        "colab_type": "code",
        "colab": {}
      },
      "cell_type": "code",
      "source": [
        "# get the position of the largest value for each label in y_train\n",
        "# eg - argmax([0., 0., 1.]) = 2\n",
        "y_ints = [y.argmax() for y in y_train]\n",
        "class_weights = class_weight.compute_class_weight('balanced', np.unique(y_ints), y_ints)"
      ],
      "execution_count": 0,
      "outputs": []
    },
    {
      "metadata": {
        "id": "VbJyZkKxFeQ2",
        "colab_type": "text"
      },
      "cell_type": "markdown",
      "source": [
        "### 3.6  Fit the model on the Training set and making predictions on the Validation set"
      ]
    },
    {
      "metadata": {
        "id": "j4aF0cPLYxIL",
        "colab_type": "code",
        "outputId": "20074fa3-bef3-43df-d934-c5a990f66291",
        "colab": {
          "base_uri": "https://localhost:8080/",
          "height": 306
        }
      },
      "cell_type": "code",
      "source": [
        "callbacks = []\n",
        "earlystop = EarlyStopping(monitor='val_loss', patience=5, verbose=1)\n",
        "callbacks.append(earlystop)\n",
        "\n",
        "# history = model.fit(X_train,y_train, nb_epoch=400, \\\n",
        "#             batch_size=batch_size, \\\n",
        "#             validation_split=0.2, \\\n",
        "#             shuffle=True, verbose=1, \\\n",
        "#             callbacks=callbacks, class_weight=class_weights)\n",
        "\n",
        "history = model.fit_generator(datagen.flow(X_train,y_train, batch_size=batch_size),\n",
        "                              epochs = 400, validation_data = (X_test,y_test),\n",
        "                              verbose = 1, steps_per_epoch=X_train.shape[0] // batch_size, callbacks=callbacks, class_weight=class_weights)"
      ],
      "execution_count": 0,
      "outputs": [
        {
          "output_type": "stream",
          "text": [
            "Epoch 1/400\n",
            "215/215 [==============================] - 79s 368ms/step - loss: 0.8287 - acc: 0.6047 - val_loss: 0.7799 - val_acc: 0.6397\n",
            "Epoch 2/400\n",
            "215/215 [==============================] - 75s 348ms/step - loss: 0.7535 - acc: 0.6566 - val_loss: 0.7560 - val_acc: 0.6499\n",
            "Epoch 3/400\n",
            "215/215 [==============================] - 72s 335ms/step - loss: 0.6965 - acc: 0.6864 - val_loss: 0.7463 - val_acc: 0.6613\n",
            "Epoch 4/400\n",
            "215/215 [==============================] - 72s 335ms/step - loss: 0.6209 - acc: 0.7248 - val_loss: 0.7749 - val_acc: 0.6565\n",
            "Epoch 5/400\n",
            "215/215 [==============================] - 72s 335ms/step - loss: 0.5102 - acc: 0.7825 - val_loss: 0.8740 - val_acc: 0.6493\n",
            "Epoch 6/400\n",
            "215/215 [==============================] - 72s 334ms/step - loss: 0.3787 - acc: 0.8463 - val_loss: 0.9422 - val_acc: 0.6410\n",
            "Epoch 7/400\n",
            "215/215 [==============================] - 72s 334ms/step - loss: 0.2725 - acc: 0.8944 - val_loss: 1.1820 - val_acc: 0.6402\n",
            "Epoch 8/400\n",
            "215/215 [==============================] - 72s 334ms/step - loss: 0.1926 - acc: 0.9276 - val_loss: 1.3245 - val_acc: 0.6413\n",
            "Epoch 00008: early stopping\n"
          ],
          "name": "stdout"
        }
      ]
    },
    {
      "metadata": {
        "id": "z1wUJMWBFqXf",
        "colab_type": "text"
      },
      "cell_type": "markdown",
      "source": [
        "### 3.7 Save the Model and weights"
      ]
    },
    {
      "metadata": {
        "id": "aTltZcB5CilC",
        "colab_type": "code",
        "outputId": "697f369c-8113-4cc5-9bbc-441fb2ce4db2",
        "colab": {
          "base_uri": "https://localhost:8080/",
          "height": 34
        }
      },
      "cell_type": "code",
      "source": [
        "# serialize model to JSON\n",
        "model_json = model.to_json()\n",
        "with open(\"vggface_adam.json\", \"w\") as json_file:\n",
        "    json_file.write(model_json)\n",
        "# serialize weights to HDF5\n",
        "model.save_weights(\"vggface_adam.h5\")\n",
        "print(\"Saved model to disk\")"
      ],
      "execution_count": 0,
      "outputs": [
        {
          "output_type": "stream",
          "text": [
            "Saved model to disk\n"
          ],
          "name": "stdout"
        }
      ]
    },
    {
      "metadata": {
        "id": "kdtHDOzBJDVG",
        "colab_type": "text"
      },
      "cell_type": "markdown",
      "source": [
        "## 4. Evaluate Model Performance"
      ]
    },
    {
      "metadata": {
        "id": "Glle635wJK91",
        "colab_type": "text"
      },
      "cell_type": "markdown",
      "source": [
        "### 4.1 Loss vs Epochs Graph"
      ]
    },
    {
      "metadata": {
        "id": "yKX5fiHPYzxS",
        "colab_type": "code",
        "outputId": "6017476f-8c4a-4a6a-b54b-ffccdf0a4572",
        "colab": {
          "base_uri": "https://localhost:8080/",
          "height": 321
        }
      },
      "cell_type": "code",
      "source": [
        "plt.plot(history.history['loss'])\n",
        "plt.plot(history.history['val_loss'])\n",
        "plt.title('Model Loss')\n",
        "plt.ylabel('Loss')\n",
        "plt.xlabel('Epochs')\n",
        "plt.legend(['train', 'test'])\n",
        "plt.show()"
      ],
      "execution_count": 0,
      "outputs": [
        {
          "output_type": "display_data",
          "data": {
            "image/png": "[encoded data removed]",
            "text/plain": [
              "<Figure size 432x288 with 1 Axes>"
            ]
          },
          "metadata": {
            "tags": []
          }
        }
      ]
    },
    {
      "metadata": {
        "id": "iNR5nmN_JPl5",
        "colab_type": "text"
      },
      "cell_type": "markdown",
      "source": [
        "### 4.2 Accuracy vs Epochs Graph"
      ]
    },
    {
      "metadata": {
        "id": "ru_kOvkIY2Di",
        "colab_type": "code",
        "outputId": "0acbd3ec-4bc4-4f52-c7d3-4d27ce731713",
        "colab": {
          "base_uri": "https://localhost:8080/",
          "height": 321
        }
      },
      "cell_type": "code",
      "source": [
        "plt.plot(history.history['acc'])\n",
        "plt.plot(history.history['val_acc'])\n",
        "plt.title('Model Accuracy')\n",
        "plt.ylabel('Accuracy')\n",
        "plt.xlabel('Epochs')\n",
        "plt.legend(['train', 'test'])\n",
        "plt.show()"
      ],
      "execution_count": 0,
      "outputs": [
        {
          "output_type": "display_data",
          "data": {
            "image/png": "[encoded data removed]",
            "text/plain": [
              "<Figure size 432x288 with 1 Axes>"
            ]
          },
          "metadata": {
            "tags": []
          }
        }
      ]
    },
    {
      "metadata": {
        "id": "EVyOoxG4JdMA",
        "colab_type": "text"
      },
      "cell_type": "markdown",
      "source": [
        "### 4.3 Confusion Matrix"
      ]
    },
    {
      "metadata": {
        "id": "qXQOO6kbJjLP",
        "colab_type": "text"
      },
      "cell_type": "markdown",
      "source": [
        "#### 4.3.1 Get the predictions on the validation set"
      ]
    },
    {
      "metadata": {
        "id": "BSnIfwMbY3ri",
        "colab_type": "code",
        "colab": {}
      },
      "cell_type": "code",
      "source": [
        "y_pred = model.predict(X_test)\n",
        "y_pred_classes = np.argmax(y_pred,axis = 1) \n",
        "y_true = np.argmax(y_test,axis = 1) "
      ],
      "execution_count": 0,
      "outputs": []
    },
    {
      "metadata": {
        "id": "WwnCfIt9JnCH",
        "colab_type": "text"
      },
      "cell_type": "markdown",
      "source": [
        "#### 4.3.2 Function to plot the confusion matrix"
      ]
    },
    {
      "metadata": {
        "id": "HG1GhzfNUlCr",
        "colab_type": "code",
        "colab": {}
      },
      "cell_type": "code",
      "source": [
        "def plot_confusion_matrix(cm, classes,\n",
        "                          normalize=False,\n",
        "                          title='Confusion matrix',\n",
        "                          cmap=plt.cm.Blues):\n",
        "    \"\"\"\n",
        "    This function prints and plots the confusion matrix.\n",
        "    Normalization can be applied by setting `normalize=True`.\n",
        "    Credit: https://github.com/scikit-learn/scikit-learn/blob/master/examples/model_selection/plot_confusion_matrix.py\n",
        "    \"\"\"\n",
        "    np.set_printoptions(precision=2)\n",
        "    if normalize:\n",
        "        cm = cm.astype('float') / cm.sum(axis=1)[:, np.newaxis]\n",
        "        print(\"Normalized confusion matrix\")\n",
        "    else:\n",
        "        print('Confusion matrix, without normalization')\n",
        "\n",
        "    print(cm)\n",
        "\n",
        "    plt.imshow(cm, interpolation='nearest', cmap=cmap)\n",
        "    plt.title(title)\n",
        "    plt.colorbar()\n",
        "    tick_marks = np.arange(len(classes))\n",
        "    plt.xticks(tick_marks, classes, rotation=45)\n",
        "    plt.yticks(tick_marks, classes)\n",
        "\n",
        "    fmt = '.2f' if normalize else 'd'\n",
        "    thresh = cm.max() / 2.\n",
        "    for i, j in itertools.product(range(cm.shape[0]), range(cm.shape[1])):\n",
        "        plt.text(j, i, format(cm[i, j], fmt),\n",
        "                 horizontalalignment=\"center\",\n",
        "                 color=\"white\" if cm[i, j] > thresh else \"black\")\n",
        "\n",
        "    plt.ylabel('True label')\n",
        "    plt.xlabel('Predicted label')\n",
        "    plt.tight_layout()"
      ],
      "execution_count": 0,
      "outputs": []
    },
    {
      "metadata": {
        "id": "H8AupnBZJtJZ",
        "colab_type": "text"
      },
      "cell_type": "markdown",
      "source": [
        "#### 4.3.3 Plot the Confusion Matrix"
      ]
    },
    {
      "metadata": {
        "id": "OlPgpobVSvT4",
        "colab_type": "code",
        "outputId": "445ce004-850c-4bb1-a673-7b7887faa480",
        "colab": {
          "base_uri": "https://localhost:8080/",
          "height": 357
        }
      },
      "cell_type": "code",
      "source": [
        "cm = confusion_matrix(y_true, y_pred_classes)\n",
        "plt.figure()\n",
        "plot_confusion_matrix(cm, classes=labelencoder.classes_)\n",
        "plt.show()"
      ],
      "execution_count": 0,
      "outputs": [
        {
          "output_type": "stream",
          "text": [
            "Confusion matrix, without normalization\n",
            "[[ 863  484  326]\n",
            " [ 521  989  348]\n",
            " [ 327  471 2577]]\n"
          ],
          "name": "stdout"
        },
        {
          "output_type": "display_data",
          "data": {
            "image/png": "[encoded data removed]",
            "text/plain": [
              "<Figure size 432x288 with 2 Axes>"
            ]
          },
          "metadata": {
            "tags": []
          }
        }
      ]
    },
    {
      "metadata": {
        "id": "gJoCnLvOJykp",
        "colab_type": "text"
      },
      "cell_type": "markdown",
      "source": [
        "### 4.4 Calculate the Accuracy on the Validation Set"
      ]
    },
    {
      "metadata": {
        "id": "SAVEupIjSzkG",
        "colab_type": "code",
        "outputId": "4fc34480-ee1a-4e03-e30a-4479abe3a90b",
        "colab": {
          "base_uri": "https://localhost:8080/",
          "height": 34
        }
      },
      "cell_type": "code",
      "source": [
        "accuracy_score(y_true, y_pred_classes)"
      ],
      "execution_count": 0,
      "outputs": [
        {
          "output_type": "execute_result",
          "data": {
            "text/plain": [
              "0.6413263828554879"
            ]
          },
          "metadata": {
            "tags": []
          },
          "execution_count": 34
        }
      ]
    },
    {
      "metadata": {
        "id": "Dd5zSWS34hkF",
        "colab_type": "text"
      },
      "cell_type": "markdown",
      "source": [
        "---"
      ]
    },
    {
      "metadata": {
        "id": "KDNm_s1j4ibS",
        "colab_type": "code",
        "colab": {}
      },
      "cell_type": "code",
      "source": [
        ""
      ],
      "execution_count": 0,
      "outputs": []
    }
  ]
}